{
  "nbformat": 4,
  "nbformat_minor": 0,
  "metadata": {
    "colab": {
      "name": "Classificador LinearRegression e SVC (sklearn).ipynb",
      "version": "0.3.2",
      "provenance": [],
      "collapsed_sections": [],
      "include_colab_link": true
    },
    "kernelspec": {
      "name": "python3",
      "display_name": "Python 3"
    }
  },
  "cells": [
    {
      "cell_type": "markdown",
      "metadata": {
        "id": "view-in-github",
        "colab_type": "text"
      },
      "source": [
        "[View in Colaboratory](https://colab.research.google.com/github/danielpiccoli1/notebooks-danielp/blob/master/Classificador_LinearRegression_e_SVC_(sklearn).ipynb)"
      ]
    },
    {
      "metadata": {
        "id": "W8SZylll2XBr",
        "colab_type": "text"
      },
      "cell_type": "markdown",
      "source": [
        "**Classificador Linear**\n",
        "\n",
        "Aula: 04/08/2018.\n",
        "\n",
        "Link da documentação: http://scikit-learn.org/stable/modules/generated/sklearn.linear_model.LinearRegression.html"
      ]
    },
    {
      "metadata": {
        "id": "n2DbBOP-2XsW",
        "colab_type": "code",
        "colab": {
          "base_uri": "https://localhost:8080/",
          "height": 35
        },
        "outputId": "434541a9-6954-4bdd-cc1e-00d418116db8"
      },
      "cell_type": "code",
      "source": [
        "# Classificador: LinearRegression\n",
        "# Essa parte é uma demontração da utilização de um classificador linear para resolver o problema do dataset Iris;\n",
        "# O professor informou que esse classificador não é uma boa escolha para o problema e o mesmo não fornece a opção de plotar 'Confusion Matrix'\n",
        "# O resultado da execução será meramente a precisão da classificação que por ter tido o random seed fixado será de: 0.9467245149351708 ou 95%\n",
        "\n",
        "\n",
        "import numpy as np # Importa o pacote numpy com o alias np \n",
        "\n",
        "from sklearn.datasets import load_iris # importa do pacote sklearn o dataset do problema: dataset Iris\n",
        "from sklearn.linear_model import LinearRegression # Importa do pacote sklearn o modulo LinearRegression\n",
        "\n",
        "np.random.seed(42) # Fixa o random seed para que todos tenham a mesma precisão no final da execução 0.9467245149351708\n",
        "\n",
        "iris = load_iris() \n",
        "\n",
        "X = iris.data\n",
        "y = iris.target\n",
        "\n",
        "\n",
        "train_features, test_features, train_labels, test_labels = train_test_split(X, y, test_size=0.2)  # test_size=0.2 define que serão utilizados 20% do dataset para teste; X é sempre feature e y é sempre uma label\n",
        "target_name =  iris.target_names\n",
        "\n",
        "classifier_linear_regression = LinearRegression(fit_intercept=True, normalize=False)\n",
        "classifier_linear_regression.fit(train_features, train_labels)\n",
        "\n",
        "classifier_linear_regression.predict(test_features[:1]) # Realiza a predição com o grupo de teste\n",
        "classifier_linear_regression.score(test_features, test_labels) # Calcula o score"
      ],
      "execution_count": 14,
      "outputs": [
        {
          "output_type": "execute_result",
          "data": {
            "text/plain": [
              "0.9467245149351708"
            ]
          },
          "metadata": {
            "tags": []
          },
          "execution_count": 14
        }
      ]
    },
    {
      "metadata": {
        "id": "EKlEVZPY1z3l",
        "colab_type": "text"
      },
      "cell_type": "markdown",
      "source": [
        "**Classificador SVC**\n",
        "\n",
        "Aula: 04/08/2018\n",
        "\n",
        "Link da documentação: http://scikit-learn.org/stable/modules/generated/sklearn.svm.SVC.html\n"
      ]
    },
    {
      "metadata": {
        "id": "uMgyJU1n13KW",
        "colab_type": "code",
        "colab": {}
      },
      "cell_type": "code",
      "source": [
        "# Classificador: SVC\n",
        "# Essa parte o professor não explicou em detalhes ele apenas copiou da documentação disponivel no link:\n",
        "# http://scikit-learn.org/stable/auto_examples/model_selection/plot_confusion_matrix.html#sphx-glr-auto-examples-model-selection-plot-confusion-matrix-py\n",
        "\n",
        "# A função desta parte é produzir a parte vizual ou seja plotar a \"Confusion Matrix\"\n",
        "\n",
        "# Como o professor não entrou em detalher sobre essa parte não coloquei comentários e ficara por conta de cada um acessar a documentação\n",
        "\n",
        "import itertools\n",
        "import matplotlib.pyplot as plt\n",
        "\n",
        "def plot_confusion_matrix(cm, classes,\n",
        "                          normalize=False,  # Essa parte você pode mudar entra True e False para imprimir a Confusion Matrix com ou sem normalização - aquela de colocar entre 0 e 1 os valores\n",
        "                          title='Confusion matrix',\n",
        "                          cmap=plt.cm.Blues):\n",
        "    \"\"\"\n",
        "    This function prints and plots the confusion matrix.\n",
        "    Normalization can be applied by setting `normalize=True`.\n",
        "    \"\"\"\n",
        "    if normalize:\n",
        "        cm = cm.astype('float') / cm.sum(axis=1)[:, np.newaxis]\n",
        "        print(\"Normalized confusion matrix\")\n",
        "    else:\n",
        "        print('Confusion matrix, without normalization')\n",
        "\n",
        "    print(cm)\n",
        "\n",
        "    plt.imshow(cm, interpolation='nearest', cmap=cmap)\n",
        "    plt.title(title)\n",
        "    plt.colorbar()\n",
        "    tick_marks = np.arange(len(classes))\n",
        "    plt.xticks(tick_marks, classes, rotation=45)\n",
        "    plt.yticks(tick_marks, classes)\n",
        "\n",
        "    fmt = '.2f' if normalize else 'd'\n",
        "    thresh = cm.max() / 2.\n",
        "    for i, j in itertools.product(range(cm.shape[0]), range(cm.shape[1])):\n",
        "        plt.text(j, i, format(cm[i, j], fmt),\n",
        "                 horizontalalignment=\"center\",\n",
        "                 color=\"white\" if cm[i, j] > thresh else \"black\")\n",
        "\n",
        "    plt.tight_layout()\n",
        "    plt.ylabel('True label')\n",
        "    plt.xlabel('Predicted label')"
      ],
      "execution_count": 0,
      "outputs": []
    },
    {
      "metadata": {
        "id": "BbUA6FGGDBLH",
        "colab_type": "text"
      },
      "cell_type": "markdown",
      "source": [
        "Acima importamos os detalhe para geração dos gráficos através do pacote matplotlib e a seguir vamos ver o classificador propriamente (assim como o LinearRegression)"
      ]
    },
    {
      "metadata": {
        "id": "YeYEF3m215ka",
        "colab_type": "code",
        "colab": {}
      },
      "cell_type": "code",
      "source": [
        "# Classificador: SVC\n",
        "# Essa parte é uma demontração da utilização de um classificador SVC para resolver o problema do dataset Iris;\n",
        "# Ao contratio do LinearRegression esse classificador tem suporte para gerar a confusion_matrix e vamos imprimir a mesma na tela utilizando os pacotes importados acima 'matplotlib'\n",
        "# O resultado da execução será a Confusion Matrix\n",
        "\n",
        "import numpy as np # Importa o pacote numpy com o alias np \n",
        "\n",
        "import sklearn.svm as svm # Importa do sklearn o modulo svm DOC: http://scikit-learn.org/stable/modules/generated/sklearn.svm.SVC.html\n",
        "from sklearn.datasets import load_iris # Importa do pacote sklearn o dataset do problema: dataset Iris\n",
        "\n",
        "from sklearn.model_selection import train_test_split # Improta do pacote sklearn o modulo model_selection.train_test_split DOC: http://scikit-learn.org/stable/modules/generated/sklearn.model_selection.train_test_split.html#sklearn-model-selection-train-test-split\n",
        "from sklearn.metrics import classification_report, confusion_matrix # Importa do pacote sklearn os modulos  classification_report e confusion_matrix\n",
        "\n",
        "np.random.seed(42) # Fixa o random seed para que todos tenham a mesma precisão\n",
        "\n",
        "iris = load_iris()\n",
        "\n",
        "X = iris.data\n",
        "y = iris.target\n",
        "\n",
        "\n",
        "train_features, test_features, train_labels, test_labels = train_test_split(X, y, test_size=0.2)  # test_size=0.2 define que serão utilizados 20% do dataset para teste; X é sempre feature e y é sempre uma label\n",
        "target_name =  iris.target_names\n",
        "\n",
        "classifier_svc = svm.SVC()\n",
        "classifier_svc.fit(train_features, train_labels)\n",
        "\n",
        "svm_labels = classifier_svc.predict(test_features) # Realiza a predição utilizando os dados de teste\n",
        "classifier_svc.score(test_features, test_labels) # Calcula o score\n",
        "\n",
        "confusion_mat = confusion_matrix(test_labels, svm_labels) # Cria a confusion matrix\n",
        "\n",
        "plot_confusion_matrix(confusion_mat, target_name) # Plota o gráfico da 'Confusion Matrix'"
      ],
      "execution_count": 0,
      "outputs": []
    }
  ]
}